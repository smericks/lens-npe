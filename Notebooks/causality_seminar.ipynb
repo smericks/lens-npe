{
 "cells": [
  {
   "cell_type": "code",
   "execution_count": null,
   "metadata": {},
   "outputs": [],
   "source": [
    "%load_ext autoreload\n",
    "%autoreload 2\n",
    "import numpy as np\n",
    "import h5py\n",
    "import corner\n",
    "import matplotlib.pyplot as plt\n",
    "from scipy.stats import multivariate_normal\n",
    "from matplotlib.lines import Line2D\n",
    "from paltas.Analysis import posterior_functions\n",
    "import sys\n",
    "sys.path.insert(0, '/Users/smericks/Desktop/StrongLensing/lens-npe/')\n",
    "from Inference.network_reweighted_posteriors import NetworkReweightedPosteriors\n",
    "import visualization_utils"
   ]
  },
  {
   "cell_type": "markdown",
   "metadata": {},
   "source": [
    "This notebook presents further testing of hierarchical reweighting. These tests were done as an exploratory analysis. Material was presented at a KIPAC Strong Lensing x Computer Science Causality Group Seminar on December 9th, 2024. "
   ]
  },
  {
   "cell_type": "code",
   "execution_count": null,
   "metadata": {},
   "outputs": [],
   "source": [
    "zenodo_filepath = '../Paper/lens-npe-data/'"
   ]
  },
  {
   "cell_type": "markdown",
   "metadata": {},
   "source": [
    "### Visualize the Lenses we Test on ###"
   ]
  },
  {
   "cell_type": "code",
   "execution_count": null,
   "metadata": {},
   "outputs": [],
   "source": [
    "visualization_utils.matrix_plot_from_h5(zenodo_filepath+'test_sets/shifted/image_data.h5',(2,10),None)"
   ]
  },
  {
   "cell_type": "markdown",
   "metadata": {},
   "source": [
    "### Load in Full Covariance NPE Predictions for the Shifted Test Set ###"
   ]
  },
  {
   "cell_type": "code",
   "execution_count": null,
   "metadata": {},
   "outputs": [],
   "source": [
    "# SHIFTED SET\n",
    "file_path = zenodo_filepath+'model_predictions/npe/full/narrow_predictions.h5'\n",
    "h5f = h5py.File(file_path, 'r')\n",
    "y_test_shifted = h5f.get('y_test').value\n",
    "y_pred_shifted = h5f.get('y_pred').value\n",
    "std_pred_shifted = h5f.get('std_pred').value\n",
    "prec_pred_shifted = h5f.get('prec_pred').value\n",
    "h5f.close()"
   ]
  },
  {
   "cell_type": "markdown",
   "metadata": {},
   "source": [
    "### Run Hierarchical Re-Weighting for First 20 Lenses in Shifted Test Set ###\n",
    "* We choose the shifted test set because we have a ground truth for its population distribution\n",
    "* We use full covariance NPE so we are less susceptible to functional-form mis-specification (unfortunately full covariance SNPE was not run for this work)\n",
    "* We only use 20 lenses, because the re-weighting takes ~1hr to run with 20"
   ]
  },
  {
   "cell_type": "code",
   "execution_count": null,
   "metadata": {},
   "outputs": [],
   "source": [
    "already_computed = True\n",
    "debug = False # debug=True means only one lens calculated\n",
    "\n",
    "if not debug and not already_computed:\n",
    "    print(\"WARNING: Running re-weighting on all 20 shifted set lenses takes over an hour.\")\n",
    "    print(\"Debug=True ensures this is run for only one lens\")\n",
    "\n",
    "seq_reweighted_filepath = 'notebook_data/full_npe_reweighted_shifted.h5'\n",
    "\n",
    "if already_computed == True:\n",
    "    samps_list_seq_shifted,weights_list_seq_shifted = NetworkReweightedPosteriors.load_samps_weights(seq_reweighted_filepath)\n",
    "\n",
    "else:\n",
    "    # in order: theta_E, gamma1, gamma2, gamma, e1, e2, x_lens, y_lens, x_src, y_src\n",
    "    train_mean = [0.8,0.,0.,2.,0.,0,0.,0.,0.,0.]\n",
    "    train_scatter = [0.15,.12,0.12,0.2,0.2,0.2,0.07,0.07,0.1,0.1]\n",
    "\n",
    "    nrp = NetworkReweightedPosteriors({\n",
    "        'hypermodel_type':'fixed_param',\n",
    "        'sigmas_log_uniform':False,\n",
    "        'n_emcee_samps':int(6e3)\n",
    "    })\n",
    "\n",
    "    samps_list_seq,weights_list_seq = nrp.reweighted_lens_posteriors_small_number(\n",
    "        y_pred_shifted[:20],prec_pred_shifted[:20],train_mean,train_scatter,\n",
    "        seq_reweighted_filepath,\n",
    "        debug=debug)"
   ]
  },
  {
   "cell_type": "markdown",
   "metadata": {},
   "source": [
    "### Plot Re-Weighted Individual Posteriors ###\n"
   ]
  },
  {
   "cell_type": "code",
   "execution_count": null,
   "metadata": {},
   "outputs": [],
   "source": [
    "param_labels =  [r'$\\theta_\\mathrm{E}$',r'$\\gamma_1$',r'$\\gamma_2$',r'$\\gamma_\\mathrm{lens}$',r'$e_1$',\n",
    "\t\t\t\t\t\t\t\tr'$e_2$']\n",
    "cov_pred_shifted = np.linalg.inv(prec_pred_shifted)\n",
    "\n",
    "npe_color = 'slateblue'\n",
    "reweighted_color = 'indianred'\n",
    "\n",
    "for i in range(0,20):\n",
    "\n",
    "    samps_npe = multivariate_normal(mean=y_pred_shifted[i,:6],\n",
    "                cov=cov_pred_shifted[i,:6,:6]).rvs(size=int(5e3))\n",
    "                \n",
    "    figure = corner.corner(samps_npe,labels=np.asarray(param_labels),bins=20,\n",
    "            show_titles=False,plot_datapoints=False,label_kwargs=dict(fontsize=50),\n",
    "            levels=[0.68,0.95],color=npe_color,fill_contours=True,smooth=1.0,\n",
    "            hist_kwargs={'density':True,'color':npe_color,'lw':3},\n",
    "            title_fmt='.2f',max_n_ticks=3,fig=None)\n",
    "\n",
    "    hist_kwargs = {'density':True,'color':reweighted_color,'lw':3}\n",
    "    corner.corner(samps_list_seq_shifted[i][:,:6],weights=weights_list_seq_shifted[i],labels=np.asarray(param_labels),bins=20,\n",
    "            show_titles=False,plot_datapoints=False,label_kwargs=dict(fontsize=50),\n",
    "            levels=[0.68,0.95],color=reweighted_color,fill_contours=True,smooth=1.0,\n",
    "            hist_kwargs={'density':True,'color':reweighted_color,'lw':3},\n",
    "            title_fmt='.2f',max_n_ticks=3,fig=figure,\n",
    "            truths=y_test_shifted[i,:6],\n",
    "            truth_color='black')#,range=np.ones(6)*0.98)\n",
    "\n",
    "\n",
    "    axes = np.array(figure.axes).reshape((6, 6))\n",
    "    custom_lines = [Line2D([0], [0], color=npe_color, lw=4),\n",
    "                    Line2D([0], [0], color=reweighted_color, lw=4)]\n",
    "    \n",
    "    axes[0,5].legend(custom_lines,['NPE-Full','Reweighted NPE-Full'],frameon=False,fontsize=25)\n",
    "\n",
    "    plt.suptitle('Narrow %02d'%(i),fontsize=30)\n",
    "    plt.show()"
   ]
  },
  {
   "cell_type": "markdown",
   "metadata": {},
   "source": [
    "### Show Calibration Curve Before and After Reweighting ###"
   ]
  },
  {
   "cell_type": "code",
   "execution_count": null,
   "metadata": {},
   "outputs": [],
   "source": [
    "# NPE calib\n",
    "shifted_npe_samps = visualization_utils.construct_samps(y_pred_shifted[:20],np.linalg.inv(prec_pred_shifted[:20]))\n",
    "calib_figure = posterior_functions.plot_calibration(shifted_npe_samps,\n",
    "    y_test_shifted[:20],show_plot=False,color_map=['black','slateblue'])\n",
    "\n",
    "# NPE-cPDF calib\n",
    "samps_seq_reweighted = np.transpose(np.asarray(samps_list_seq),axes=[1,0,2])\n",
    "weights_seq_reweighted = np.asarray(weights_list_seq).T\n",
    "\n",
    "posterior_functions.plot_calibration(samps_seq_reweighted,y_test_shifted[:20],figure=calib_figure,\n",
    "    color_map=['black','indianred'],\n",
    "    legend=[r'Perfect Calibration',r'NPE, $\\nu_{int}$ Prior',r'NPE, cPDF Prior'],\n",
    "    title='Calibration of Shifted Set Posteriors',loc='upper left',\n",
    "    weights=weights_seq_reweighted,show_plot=False)"
   ]
  },
  {
   "cell_type": "markdown",
   "metadata": {},
   "source": [
    "### Appendix: Sanity Checks ###"
   ]
  },
  {
   "cell_type": "code",
   "execution_count": null,
   "metadata": {},
   "outputs": [],
   "source": [
    "# check that precision matrices are symmetric\n",
    "for i in range(0,100):\n",
    "    my_ex = prec_pred_shifted[0]\n",
    "    is_fine = np.allclose(my_ex,my_ex.T)\n",
    "    if not is_fine:\n",
    "        print('uh oh!')"
   ]
  },
  {
   "cell_type": "code",
   "execution_count": null,
   "metadata": {},
   "outputs": [],
   "source": [
    "# check the values of the weights\n",
    "plt.hist(weights_list_seq[6])"
   ]
  },
  {
   "cell_type": "code",
   "execution_count": null,
   "metadata": {},
   "outputs": [],
   "source": []
  }
 ],
 "metadata": {
  "kernelspec": {
   "display_name": "myenv",
   "language": "python",
   "name": "python3"
  },
  "language_info": {
   "codemirror_mode": {
    "name": "ipython",
    "version": 3
   },
   "file_extension": ".py",
   "mimetype": "text/x-python",
   "name": "python",
   "nbconvert_exporter": "python",
   "pygments_lexer": "ipython3",
   "version": "3.9.7"
  }
 },
 "nbformat": 4,
 "nbformat_minor": 2
}
