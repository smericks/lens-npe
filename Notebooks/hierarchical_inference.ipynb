{
 "cells": [
  {
   "cell_type": "code",
   "execution_count": null,
   "metadata": {},
   "outputs": [],
   "source": [
    "%load_ext autoreload\n",
    "%autoreload 2\n",
    "import numpy as np\n",
    "import h5py\n",
    "from paltas.Utils.distribution_utils import geometric_average\n",
    "import sys\n",
    "sys.path.insert(0, '/Users/smericks/Desktop/StrongLensing/lens-npe/')\n",
    "from Inference.network_hierarchical_inference import NetworkHierarchicalInference"
   ]
  },
  {
   "cell_type": "markdown",
   "metadata": {},
   "source": [
    "This notebook demonstrates how to infer a population model from network predictions. \n",
    "We use the shifted test set for this example"
   ]
  },
  {
   "cell_type": "markdown",
   "metadata": {},
   "source": [
    "## Load in Network Predictions ##"
   ]
  },
  {
   "cell_type": "code",
   "execution_count": null,
   "metadata": {},
   "outputs": [],
   "source": [
    "# NPE model predictions \n",
    "npe_preds_path = 'from_zenodo/model_predictions/npe/diag/'\n",
    "\n",
    "# SHIFTED SET\n",
    "file_path = npe_preds_path+'narrow_predictions.h5'\n",
    "h5f = h5py.File(file_path, 'r')\n",
    "y_test_shifted = h5f.get('y_test').value\n",
    "y_pred_shifted = h5f.get('y_pred').value\n",
    "std_pred_shifted = h5f.get('std_pred').value\n",
    "prec_pred_shifted = h5f.get('prec_pred').value\n",
    "h5f.close()\n",
    "\n",
    "# SHIFTED SET\n",
    "y_pred_shifted_seq_list = np.load('from_zenodo/model_predictions/snpe/shifted/y_pred_list_epoch10.npy')\n",
    "std_pred_shifted_seq_list = np.load('from_zenodo/model_predictions/snpe/shifted/std_pred_list_epoch10.npy')\n",
    "prec_pred_shifted_seq_list = np.load('from_zenodo/model_predictions/snpe/shifted/prec_pred_list_epoch10.npy')\n"
   ]
  },
  {
   "cell_type": "markdown",
   "metadata": {},
   "source": [
    "## Run HBI ##"
   ]
  },
  {
   "cell_type": "code",
   "execution_count": null,
   "metadata": {},
   "outputs": [],
   "source": [
    "write_prefix = 'MYTEST/'\n",
    "\n",
    "# note: center coordinates not included in HBI\n",
    "train_mean_no_coords = [0.8,0.,0.,2.,0.,0]\n",
    "train_scatter_no_coords = [0.15,0.12,0.12,0.2,0.2,0.2]\n",
    "\n",
    "n_lenses = 20\n",
    "\n",
    "# construct a list of y_pred, prec_pred to feed to HI object\n",
    "y_pred_list_shifted = []\n",
    "prec_pred_list_shifted = []\n",
    "y_pred_list_shifted.append(y_pred_shifted[:n_lenses,:6])\n",
    "# NOTE if diagonal, precision matrix can simply be truncated when marginalizing\n",
    "prec_pred_list_shifted.append(prec_pred_shifted[:n_lenses,:6,:6])\n",
    "\n",
    "# only m=2\n",
    "y_pred_list_shifted.append(y_pred_shifted_seq_list[2,:n_lenses,:6])\n",
    "prec_pred_list_shifted.append(prec_pred_shifted_seq_list[2,:n_lenses,:6,:6])\n",
    "\n",
    "hi_quads = NetworkHierarchicalInference(train_mean_no_coords,train_scatter_no_coords,\n",
    "        y_pred_list_shifted,prec_pred_list_shifted,\n",
    "        hypermodel_type='fixed_param_no_coords',sigmas_log_uniform=False,\n",
    "        n_emcee_samps=int(6e3))\n",
    "_ = hi_quads.run_HI(write_prefix+'HI_fixed_param_no_coords.h5')"
   ]
  },
  {
   "cell_type": "code",
   "execution_count": null,
   "metadata": {},
   "outputs": [],
   "source": []
  }
 ],
 "metadata": {
  "kernelspec": {
   "display_name": "myenv",
   "language": "python",
   "name": "python3"
  },
  "language_info": {
   "codemirror_mode": {
    "name": "ipython",
    "version": 3
   },
   "file_extension": ".py",
   "mimetype": "text/x-python",
   "name": "python",
   "nbconvert_exporter": "python",
   "pygments_lexer": "ipython3",
   "version": "3.9.7"
  }
 },
 "nbformat": 4,
 "nbformat_minor": 2
}
