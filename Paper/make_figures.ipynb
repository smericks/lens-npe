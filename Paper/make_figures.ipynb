{
 "cells": [
  {
   "cell_type": "code",
   "execution_count": null,
   "metadata": {},
   "outputs": [],
   "source": [
    "%load_ext autoreload\n",
    "%autoreload 2\n",
    "import matplotlib.pyplot as plt\n",
    "from scipy.stats import norm as norm_dist\n",
    "import pandas as pd\n",
    "import numpy as np\n",
    "import h5py\n",
    "import copy\n",
    "import os\n",
    "import sys\n",
    "sys.path.insert(0, '/Users/smericks/Desktop/StrongLensing/lens-npe/')\n",
    "from LensSystem.lens_system import LensSystem\n",
    "from Inference.base_hierarchical_inference import BaseHierarchicalInference\n",
    "from LensSystem.image_positions_utils import matrix_plot_im_positions\n",
    "import visualization_utils\n",
    "import mcmc_utils"
   ]
  },
  {
   "cell_type": "markdown",
   "metadata": {},
   "source": [
    "## Figures 1,2 ##\n",
    "\n",
    "Created in powerpoint, please contact @smericks for details. "
   ]
  },
  {
   "cell_type": "markdown",
   "metadata": {},
   "source": [
    "## Figure 3 ##"
   ]
  },
  {
   "cell_type": "code",
   "execution_count": null,
   "metadata": {},
   "outputs": [],
   "source": [
    "# Show narrow vs broad training\n",
    "\n",
    "prior_dists = [norm_dist(loc=0.8,scale=0.15),norm_dist(loc=2.0,scale=0.2)]\n",
    "prior_means = [0.8,2.0]\n",
    "narrow_dists = [norm_dist(loc=0.7,scale=0.08),norm_dist(loc=2.05,scale=0.1)]\n",
    "narrow_means = [0.7,2.05]\n",
    "x_ranges = [np.arange(0.2,1.4,0.01),np.arange(1.4,2.6,0.01)]\n",
    "titles = [r'$\\theta_E$ (\")',r'$\\gamma_{lens}$']\n",
    "fig,axs = plt.subplots(1,2,figsize=(12,5),dpi=300)\n",
    "plt.subplots_adjust(wspace=0.11)\n",
    "green_color = '#7bb274'\n",
    "for i in range(0,2):\n",
    "\n",
    "    prior_samps = prior_dists[i].rvs(1000)\n",
    "    axs[i].plot(x_ranges[i],prior_dists[i].pdf(x_ranges[i]),label=r'$\\nu_{int}$',color='grey',linestyle='dashed',linewidth=3.5)\n",
    "    axs[i].axvline(prior_means[i],color='grey',linewidth=2.5,alpha=0.7)\n",
    "    axs[i].plot(x_ranges[i],narrow_dists[i].pdf(x_ranges[i]),label='Shifted',color='slateblue',linewidth=3.5)\n",
    "    axs[i].axvline(narrow_means[i],color='slateblue',linewidth=2.5,alpha=0.7)\n",
    "    if i ==0:\n",
    "        axs[i].legend(loc='upper right',bbox_to_anchor=(1.02,1.02),fontsize=20)\n",
    "    axs[i].set_ylabel('Density',fontsize=23)\n",
    "    axs[i].set_yticks([])\n",
    "    axs[i].set_xlabel(titles[i],fontsize=30)\n",
    "    axs[i].tick_params(labelsize=14)\n",
    "\n",
    "plt.savefig('figures/Figure3.pdf',bbox_inches='tight')"
   ]
  },
  {
   "cell_type": "markdown",
   "metadata": {},
   "source": [
    "## Figure 4 ##"
   ]
  },
  {
   "cell_type": "code",
   "execution_count": null,
   "metadata": {},
   "outputs": [],
   "source": [
    "lens_names = ['ATLAS J2344-3056', 'DES J0405-3308','DES J0420-4037',\n",
    "              'J0029-3814', 'J1131-4419', 'J2145+6345',\n",
    "              'J2205-3727','PS J1606-2333', 'SDSS J0248+1913', 'SDSS J1251+2935',\n",
    "'W2M J1042+1641', 'WG0214-2105', 'WISE J0259-1635',None]\n",
    "\n",
    "file_names = ['ATLASJ2344-3056', 'DESJ0405-3308','DESJ0420-4037',\n",
    "              'J0029-3814','J1131-4419', 'J2145+6345',\n",
    "              'J2205-3727','PSJ1606-2333', 'SDSSJ0248+1913', 'SDSSJ1251+2935',\n",
    "'W2MJ1042+1641', 'WG0214-2105', 'WISEJ0259-1635',None]\n",
    "\n",
    "image_files = []\n",
    "plot_names = []\n",
    "for i in range(0,len(file_names)):\n",
    "    if file_names[i] is None:\n",
    "        image_files.append(None)\n",
    "        plot_names.append(None)\n",
    "    else:\n",
    "        image_files.append('from_zenodo/test_sets/doppelganger/doppel_images/'+file_names[i]+'/image_0000000.npy')\n",
    "        plot_names.append('DG '+lens_names[i])\n",
    "\n",
    "visualization_utils.matrix_plot_from_npy(image_files,plot_names,[2,7],'figures/Figure4b.pdf',\n",
    "    annotate=True,show_one_arcsec=True,rotate_data=True)"
   ]
  },
  {
   "cell_type": "markdown",
   "metadata": {},
   "source": [
    "## Network Predictions ##\n",
    "\n",
    "After the networks for NPE and SNPE are trained, images are passed through the \n",
    "networks to make mass model predictions. Network predictions source code is \n",
    "found in network_predictions.py. We load in predictions here to make the rest of \n",
    "the figures.\n",
    "\n",
    "See notebook make_predictions.ipynb for more details."
   ]
  },
  {
   "cell_type": "code",
   "execution_count": null,
   "metadata": {},
   "outputs": [],
   "source": [
    "# NPE model predictions \n",
    "npe_preds_path = 'from_zenodo/model_predictions/npe/diag/'\n",
    "\n",
    "# SHIFTED SET\n",
    "file_path = npe_preds_path+'narrow_predictions.h5'\n",
    "h5f = h5py.File(file_path, 'r')\n",
    "y_test_shifted = h5f.get('y_test').value\n",
    "y_pred_shifted = h5f.get('y_pred').value\n",
    "std_pred_shifted = h5f.get('std_pred').value\n",
    "prec_pred_shifted = h5f.get('prec_pred').value\n",
    "h5f.close()\n",
    "\n",
    "# DOPPELGANGER SET\n",
    "file_path = npe_preds_path+'doppelganger_predictions.h5'\n",
    "h5f = h5py.File(file_path, 'r')\n",
    "y_test_doppel = h5f.get('y_test').value\n",
    "y_pred_doppel = h5f.get('y_pred').value\n",
    "std_pred_doppel = h5f.get('std_pred').value\n",
    "prec_pred_doppel = h5f.get('prec_pred').value\n",
    "h5f.close()\n",
    "\n",
    "# HST DATA\n",
    "file_path = npe_preds_path+'HSTdata_predictions.h5'\n",
    "h5f = h5py.File(file_path, 'r')\n",
    "y_pred_data = h5f.get('y_pred').value\n",
    "std_pred_data = h5f.get('std_pred').value\n",
    "prec_pred_data = h5f.get('prec_pred').value\n",
    "h5f.close()\n",
    "\n",
    "# adjust for different pixel grid conventions\n",
    "# x-coords\n",
    "y_pred_data[:,6] = - (y_pred_data[:,6]-0.02)\n",
    "y_pred_data[:,8] = - (y_pred_data[:,8]-0.02)\n",
    "# y-coords\n",
    "y_pred_data[:,7] = - (y_pred_data[:,7]+0.02)\n",
    "y_pred_data[:,9] = - (y_pred_data[:,9]+0.02)\n"
   ]
  },
  {
   "cell_type": "code",
   "execution_count": null,
   "metadata": {},
   "outputs": [],
   "source": [
    "# SNPE model predictions\n",
    "\n",
    "# SHIFTED SET\n",
    "y_pred_shifted_seq_list = np.load('from_zenodo/model_predictions/snpe/shifted/y_pred_list_epoch10.npy')\n",
    "std_pred_shifted_seq_list = np.load('from_zenodo/model_predictions/snpe/shifted/std_pred_list_epoch10.npy')\n",
    "prec_pred_shifted_seq_list = np.load('from_zenodo/model_predictions/snpe/shifted/prec_pred_list_epoch10.npy')\n",
    "# DOPPELGANGER SET \n",
    "y_pred_doppel_seq_list = np.load('from_zenodo/model_predictions/snpe/doppelganger/y_pred_list_epoch10.npy')\n",
    "std_pred_doppel_seq_list = np.load('from_zenodo/model_predictions/snpe/doppelganger/std_pred_list_epoch10.npy')\n",
    "prec_pred_doppel_seq_list = np.load('from_zenodo/model_predictions/snpe/doppelganger/prec_pred_list_epoch10.npy')\n",
    "\n",
    "# HST DATA\n",
    "y_pred_data_seq_list = np.load('from_zenodo/model_predictions/snpe/data/y_pred_list_epoch10.npy')\n",
    "std_pred_data_seq_list = np.load('from_zenodo/model_predictions/snpe/data/std_pred_list_epoch10.npy')\n",
    "prec_pred_data_seq_list = np.load('from_zenodo/model_predictions/snpe/data/prec_pred_list_epoch10.npy')"
   ]
  },
  {
   "cell_type": "markdown",
   "metadata": {},
   "source": [
    "## Figure 5 ##"
   ]
  },
  {
   "cell_type": "code",
   "execution_count": null,
   "metadata": {},
   "outputs": [],
   "source": [
    "# SHIFTED SET CALIBRATION\n",
    "\n",
    "test_set_indices = range(0,20)\n",
    "y_pred_final = [y_pred_shifted[test_set_indices,:],y_pred_shifted_seq_list[2]]\n",
    "cov_pred_list_final = [np.linalg.inv(prec_pred_shifted[test_set_indices,:]),\n",
    "                       np.linalg.inv(prec_pred_shifted_seq_list[2])]\n",
    "\n",
    "visualization_utils.combine_calib_plots(y_pred_final,cov_pred_list_final,y_test_shifted[test_set_indices,:],\n",
    "    ['slateblue','mediumseagreen'],['Perfect Calibration','NPE','SNPE'],\n",
    "    plot_title='Calibration of Shifted Set',save_path='figures/Figure5a.pdf')\n",
    "\n",
    "# DOPPELGANGER SET CALIBRATION\n",
    "\n",
    "y_pred_final = [y_pred_doppel,y_pred_doppel_seq_list[2]]\n",
    "cov_pred_list_final = [np.linalg.inv(prec_pred_doppel),\n",
    "                       np.linalg.inv(prec_pred_doppel_seq_list[2])]\n",
    "\n",
    "visualization_utils.combine_calib_plots(y_pred_final,cov_pred_list_final,y_test_doppel,\n",
    "    ['slateblue','mediumseagreen'],['Perfect Calibration','NPE','SNPE'],\n",
    "    plot_title='Calibration of Doppelganger Set',save_path='figures/Figure5b.pdf')\n",
    "\n"
   ]
  },
  {
   "cell_type": "markdown",
   "metadata": {},
   "source": [
    "## Table 1 ##"
   ]
  },
  {
   "cell_type": "code",
   "execution_count": null,
   "metadata": {},
   "outputs": [],
   "source": [
    "print(\"NPE: Shifted Set\")\n",
    "visualization_utils.table_metrics(y_pred_shifted[:20],y_test_shifted[:20],std_pred_shifted[:20],None)\n",
    "print(\" \")\n",
    "print(\"SNPE: Shifted Set\")\n",
    "visualization_utils.table_metrics(y_pred_shifted_seq_list[2],y_test_shifted[:20],std_pred_shifted_seq_list[2],None)"
   ]
  },
  {
   "cell_type": "markdown",
   "metadata": {},
   "source": [
    "## Table 2 ##"
   ]
  },
  {
   "cell_type": "code",
   "execution_count": null,
   "metadata": {},
   "outputs": [],
   "source": [
    "print(\"NPE: Doppelganger Set\")\n",
    "visualization_utils.table_metrics(y_pred_doppel,y_test_doppel,std_pred_doppel,None)\n",
    "print(\" \")\n",
    "print(\"SNPE: Doppelganger Set\")\n",
    "visualization_utils.table_metrics(y_pred_doppel_seq_list[2],y_test_doppel,std_pred_doppel_seq_list[2],None)"
   ]
  },
  {
   "cell_type": "markdown",
   "metadata": {},
   "source": [
    "## Hierarchical Inference ##\n",
    "\n",
    "Using network predictions, we perform a hierarchical inference for the lens \n",
    "mass population model of each test set. Hierarchical inference source code is \n",
    "found in the Inference folder. We load in resulting MCMC chains for the rest of\n",
    "the figures.\n",
    "\n",
    "See notebook hierarchical_inference.ipynb for more details."
   ]
  },
  {
   "cell_type": "code",
   "execution_count": null,
   "metadata": {},
   "outputs": [],
   "source": [
    "# load in HI chains\n",
    "shifted_chains = BaseHierarchicalInference.retrieve_chains_h5('from_zenodo/hierarchical_inference/shifted/HI_NPE_shifted.h5')\n",
    "doppel_chains = BaseHierarchicalInference.retrieve_chains_h5('from_zenodo/hierarchical_inference/doppelganger/HI_NPE_doppel.h5')\n",
    "data_chains = BaseHierarchicalInference.retrieve_chains_h5('from_zenodo/hierarchical_inference/data/HI_NPE_data.h5')\n",
    "data_FM_chains = BaseHierarchicalInference.retrieve_chains_h5('from_zenodo/hierarchical_inference/data/HI_FM_data.h5')"
   ]
  },
  {
   "cell_type": "markdown",
   "metadata": {},
   "source": [
    "## Figure 6a ##"
   ]
  },
  {
   "cell_type": "code",
   "execution_count": null,
   "metadata": {},
   "outputs": [],
   "source": [
    "# bounds should be the same for both!\n",
    "bounds = [\n",
    "    [0.6,0.8], # +/- 0.1\n",
    "    [1.73,2.37], # +/- 0.32\n",
    "    [0.001,0.15], # prior\n",
    "    [0.001,0.2], # prior\n",
    "]\n",
    "param_labels = np.asarray([\n",
    "    r'$\\mathcal{M}_{\\theta_{\\mathrm{E}}}$',\n",
    "    r'$\\mathcal{M}_{\\gamma_{\\mathrm{lens}}}$',\n",
    "    r'$\\Sigma_{\\theta_{\\mathrm{E}},\\theta_{\\mathrm{E}}}$',\n",
    "    r'$\\Sigma_{\\gamma_{1/2},\\gamma_{1/2}}$',\n",
    "    r'$\\Sigma_{\\gamma_{\\mathrm{lens}},\\gamma_{\\mathrm{lens}}}$',\n",
    "    r'$\\Sigma_{e_{1/2},e_{1/2}}$',\n",
    "    r'$\\sigma(x/y_{lens})$',r'$\\sigma(x/y_{src})$'])\n",
    "true_hyperparameters = np.asarray([0.7,2.05,0.08,0.12,0.1,0.2,0.07,0.1])\n",
    "\n",
    "ten = 'slateblue'\n",
    "one_hundred = 'mediumseagreen'\n",
    "\n",
    "mcmc_utils.overlay_contours([shifted_chains[0],shifted_chains[2]],\n",
    "                            colors_list=['slateblue','mediumseagreen'],\n",
    "                            iofi=[0,1,2,4],true_params=true_hyperparameters[[0,1,2,4]],param_labels=param_labels[[0,1,2,4]],\n",
    "                            sampler_labels=['NPE', 'SNPE'],bounds=bounds,\n",
    "                            save_path='figures/Figure6a.pdf')"
   ]
  },
  {
   "cell_type": "markdown",
   "metadata": {},
   "source": [
    "## Figure 6b ##"
   ]
  },
  {
   "cell_type": "code",
   "execution_count": null,
   "metadata": {},
   "outputs": [],
   "source": [
    "# bounds should be the same for both!\n",
    "bounds = [\n",
    "    [0.69,0.89], # +/- 0.1\n",
    "    [1.74,2.38], # +/- 0.32\n",
    "    [0.001,0.15], # prior\n",
    "    [0.001,0.2], # prior\n",
    "]\n",
    "\n",
    "doppel_means = np.mean(y_test_doppel,axis=0)\n",
    "doppel_stds = np.std(y_test_doppel,axis=0,ddof=1)\n",
    "true_params = np.asarray([doppel_means[0],doppel_means[3],doppel_stds[0],\n",
    "               (doppel_stds[1]+doppel_stds[2])/2,doppel_stds[3],\n",
    "               (doppel_stds[4]+doppel_stds[5])/2,(doppel_stds[6]+doppel_stds[7])/2,\n",
    "               (doppel_stds[8]+doppel_stds[9])/2])\n",
    "\n",
    "y_bounds = [\n",
    "    [0,14],\n",
    "    [0,9],\n",
    "    [0,25],\n",
    "    [0,25]\n",
    "]\n",
    "mcmc_utils.overlay_contours([doppel_chains[0],doppel_chains[2]],\n",
    "                            colors_list=['slateblue','mediumseagreen'],\n",
    "                            iofi=[0,1,2,4],true_params=true_params[[0,1,2,4]],param_labels=param_labels[[0,1,2,4]],\n",
    "                            y_bounds=y_bounds,sampler_labels=['NPE','SNPE'],bounds=bounds,\n",
    "                            save_path='figures/Figure6b.pdf')"
   ]
  },
  {
   "cell_type": "markdown",
   "metadata": {},
   "source": [
    "## Table 4 ##"
   ]
  },
  {
   "cell_type": "code",
   "execution_count": null,
   "metadata": {},
   "outputs": [],
   "source": [
    "print('HI from SNPE: Shifted')\n",
    "mcmc_utils.HI_medians_table(shifted_chains[2],param_labels,burnin=1e3)"
   ]
  },
  {
   "cell_type": "markdown",
   "metadata": {},
   "source": [
    "## Table 5 ##"
   ]
  },
  {
   "cell_type": "code",
   "execution_count": null,
   "metadata": {},
   "outputs": [],
   "source": [
    "print('HI from SNPE: Doppelganger')\n",
    "mcmc_utils.HI_medians_table(doppel_chains[2],param_labels,burnin=1e3)"
   ]
  },
  {
   "cell_type": "markdown",
   "metadata": {},
   "source": [
    "## Figure 7 ##\n",
    "\n",
    "Creation of Figure 7 depends on input files that are not publicly available. \n",
    "\n",
    "See matrix_plot_im_positions() in LensSystem/image_positions_utils.py for the source code.\n",
    "\n",
    "An example of how I call this function to make the figure is included below:"
   ]
  },
  {
   "cell_type": "code",
   "execution_count": null,
   "metadata": {},
   "outputs": [],
   "source": [
    "print(\"Not functional w/out proprietary input files\")\n",
    "has_files = False\n",
    "if has_files:\n",
    "\n",
    "    # re-ordering to match paper convention\n",
    "    y_pred_data_final = y_pred_data_seq_list[0]\n",
    "    std_pred_data_final = std_pred_data_seq_list[0]\n",
    "    # save copy of the values\n",
    "    y_pred_0530 = copy.deepcopy(y_pred_data_final[3])\n",
    "    std_pred_0530 = copy.deepcopy(std_pred_data_final[3])\n",
    "    # delete from 3rd position\n",
    "    y_pred_data_final = np.delete(y_pred_data_final, 3, axis=0)\n",
    "    std_pred_data_final = np.delete(std_pred_data_final, 3, axis=0)\n",
    "    # re-insert at end position\n",
    "    y_pred_data_final = np.insert(y_pred_data_final, 13, y_pred_0530, axis=0)\n",
    "    std_pred_data_final = np.insert(std_pred_data_final, 13, std_pred_0530, axis=0)\n",
    "\n",
    "    cov_pred_data_final = []\n",
    "    for std in std_pred_data_final:\n",
    "        cov_pred_data_final.append(np.diag(std**2))\n",
    "\n",
    "    file_names_impos = ['ATLASJ2344-3056', 'DESJ0405-3308','DESJ0420-4037','J0029-3814', 'J1131-4419', 'J2145+6345',\n",
    "    'J2205-3727','PSJ1606-2333', 'SDSSJ0248+1913', 'SDSSJ1251+2935',\n",
    "    'W2MJ1042+1641', 'WG0214-2105', 'WISEJ0259-1635','F0530-3730']\n",
    "    file_names = ['ATLASJ2344-3056', 'DESJ0405-3308','DESJ0420-4037',\n",
    "        'F0530-3730','J0029-3814', 'J1131-4419', 'J2145+6345',\n",
    "        'J2205-3727','PSJ1606-2333', 'SDSSJ0248+1913', 'SDSSJ1251+2935',\n",
    "        'W2MJ1042+1641', 'WG0214-2105', 'WISEJ0259-1635']\n",
    "    fits_file_list = []\n",
    "    fm_file_list = []\n",
    "    for f in file_names:\n",
    "        fits_file_list.append('../reduced_data/'+f+'_F814W_drc_sci.fits')\n",
    "    for f in file_names_impos:\n",
    "        fm_file_list.append('../doppelgangers/'+f+'_results.txt')\n",
    "    lens_names_list = ['ATLAS J2344-3056', 'DES J0405-3308','DES J0420-4037','J0029-3814', 'J1131-4419', 'J2145+6345',\n",
    "    'J2205-3727','PS J1606-2333', 'SDSS J0248+1913', 'SDSS J1251+2935',\n",
    "    'W2M J1042+1641', 'WG0214-2105', 'WISE J0259-1635', 'DES J0530-3730']\n",
    "\n",
    "    print(\"SNPE Method\")\n",
    "    catalog_df = pd.read_csv('https://docs.google.com/spreadsheets/d/'+\n",
    "        '1jOC60bWMxpp65iJZbANc_6SxouyXwqsESF4ocLAj27E/export?gid=0&format=csv')\n",
    "    matrix_plot_im_positions(y_pred_data_final,'../reduced_data/',catalog_df,\n",
    "        [2,4,6,9,13,17,18,22,23,24,27,28,30,7],(2,7),'/Users/smericks/Desktop/im_positions_data.pdf',\n",
    "        show_one_arcsec=False,fm_files_for_astrometry=fm_file_list,\n",
    "        cov_pred=cov_pred_data_final)"
   ]
  },
  {
   "cell_type": "markdown",
   "metadata": {},
   "source": [
    "## Figure 8 ##"
   ]
  },
  {
   "cell_type": "code",
   "execution_count": null,
   "metadata": {},
   "outputs": [],
   "source": [
    "bounds = [\n",
    "    [0.66,0.86], # +/- 0.1 from 0.75\n",
    "    [1.68,2.32], # +/- 0.32\n",
    "    [0.001,0.15], # prior\n",
    "    [0.001,0.2], # prior\n",
    "]\n",
    "y_bounds = [\n",
    "    [0,14],\n",
    "    [0,11],\n",
    "    [0,31],\n",
    "    [0,38]\n",
    "]\n",
    "mcmc_utils.overlay_contours([data_chains[0],data_chains[1],data_FM_chains[0]],\n",
    "                            colors_list=['slateblue','mediumseagreen','lightpink'],\n",
    "                            iofi=[0,1,2,4],true_params=None,param_labels=param_labels[[0,1,2,4]],\n",
    "                            sampler_labels=['NPE','SNPE','STRIDES23'],bounds=bounds,\n",
    "                            y_bounds=y_bounds,\n",
    "                            save_path='figures/Figure8.pdf')"
   ]
  },
  {
   "cell_type": "markdown",
   "metadata": {},
   "source": [
    "## Table 6 ##"
   ]
  },
  {
   "cell_type": "code",
   "execution_count": null,
   "metadata": {},
   "outputs": [],
   "source": [
    "# let's print out median/uncertainty from each chain\n",
    "print(\"NPE\")\n",
    "mcmc_utils.HI_medians_table(data_chains[0],param_labels,burnin=1e3)\n",
    "print(\" \")\n",
    "print(\"SNPE\")\n",
    "mcmc_utils.HI_medians_table(data_chains[1],param_labels,burnin=1e3)\n",
    "print(\" \")\n",
    "print(\"Schmidt '23\")\n",
    "mcmc_utils.HI_medians_table(data_FM_chains[0],param_labels,burnin=1e3)"
   ]
  },
  {
   "cell_type": "markdown",
   "metadata": {},
   "source": [
    "## Figure 9 ##"
   ]
  },
  {
   "cell_type": "code",
   "execution_count": null,
   "metadata": {},
   "outputs": [],
   "source": [
    "# means_list, cov_list is the FM results\n",
    "means_list = np.asarray(means_list)\n",
    "cov_list = np.asarray(cov_list)\n",
    "print(cov_list.shape)\n",
    "\n",
    "ertl_thetaE_mu = [0.831,0.75,0.689,0.855]\n",
    "ertl_thetaE_sigma = [0.002,0.01,0.009,0.004]\n",
    "ertl_gamma_mu = np.asarray([0.65,0.35,0.31,0.6])*2 + 1\n",
    "ertl_gamma_sigma = np.asarray([0.04,0.05,0.01,0.1])*2\n",
    "ertl_idx = [2,4,8,12]\n",
    "\n",
    "fig,axs = plt.subplots(1,3,dpi=300,figsize=(15,5))\n",
    "\n",
    "titles = [r'$\\theta_E$',r'$\\gamma_{lens}$']\n",
    "\n",
    "for i,p in enumerate([0,3]):\n",
    "    # snpe indices of the 10 good ones\n",
    "    if p == 0:\n",
    "        axs[i].plot([0.49,1.05],[0.49,1.05],color='black',alpha=0.8,linewidth=0.8)\n",
    "    if p ==3:\n",
    "        axs[i].plot([1.6,2.4],[1.6,2.4],color='black',alpha=0.8,linewidth=0.8)\n",
    "    \n",
    "    lens_letters = ['A','B','C','D','E','F','G','H','I','J','K','L','M','N']\n",
    "    ertl_counter = 0\n",
    "    for fm_idx in range(0,14):\n",
    "\n",
    "        axs[i].errorbar(means_list[fm_idx,p],y_pred_data_seq_list[0,fm_idx,p],\n",
    "            xerr=np.sqrt(cov_list[fm_idx,p,p]),yerr=std_pred_data_seq_list[0,fm_idx,p],\n",
    "            color='lightpink',fmt='.',markersize=22,zorder=200)\n",
    "        axs[i].text(means_list[fm_idx,p],y_pred_data_seq_list[0,fm_idx,p],lens_letters[fm_idx],ha='center',va='center',zorder=300)\n",
    "\n",
    "\n",
    "        if fm_idx in ertl_idx:\n",
    "            if p == 0:\n",
    "                axs[i].errorbar(ertl_thetaE_mu[ertl_counter],y_pred_data_seq_list[0,fm_idx,p],\n",
    "                    xerr=ertl_thetaE_sigma[ertl_counter],yerr=std_pred_data_seq_list[0,fm_idx,p],\n",
    "                    color='indianred',fmt='.',markersize=22,zorder=200)\n",
    "                axs[i].text(ertl_thetaE_mu[ertl_counter],y_pred_data_seq_list[0,fm_idx,p],\n",
    "                    lens_letters[fm_idx],ha='center',va='center',zorder=300)\n",
    "\n",
    "            if p == 3: \n",
    "                axs[i].errorbar(ertl_gamma_mu[ertl_counter],y_pred_data_seq_list[0,fm_idx,p],\n",
    "                    xerr=ertl_gamma_sigma[ertl_counter],yerr=std_pred_data_seq_list[0,fm_idx,p],\n",
    "                    color='indianred',fmt='.',markersize=22,zorder=200)\n",
    "                axs[i].text(ertl_gamma_mu[ertl_counter],y_pred_data_seq_list[0,fm_idx,p],\n",
    "                    lens_letters[fm_idx],ha='center',va='center',zorder=300)\n",
    "\n",
    "            ertl_counter+=1\n",
    "\n",
    "    # add the correlation coefficients\n",
    "      \n",
    "\n",
    "    axs[i].set_xlabel('Automated FM',fontsize=15)\n",
    "    axs[i].set_ylabel(r'SNPE',fontsize=15)\n",
    "    axs[i].set_title(titles[i],fontsize=17)\n",
    "\n",
    "# custom legend for Schmidt/Ertl colors\n",
    "axs[0].scatter([],[],color='lightpink',s=50,label='STRIDES23')\n",
    "axs[0].scatter([],[],color='indianred',s=50,label='Ertl \\'23')\n",
    "\n",
    "axs[0].legend(fontsize=14,loc='upper left')\n",
    "\n",
    "for i in range(0,14):\n",
    "    axs[2].scatter(1,13-i,color='white',s=130,edgecolors='black')\n",
    "    axs[2].text(1,12.95-i,lens_letters[i],ha='center',va='center',zorder=300)\n",
    "    axs[2].text(1.005,12.95-i,fm_lens_names[i],va='center',fontsize=12)\n",
    "axs[2].set_xlim([0.99,1.05])\n",
    "axs[2].axis('off')\n",
    "\n",
    "plt.savefig('figures/Figure9.pdf')"
   ]
  }
 ],
 "metadata": {
  "kernelspec": {
   "display_name": "myenv",
   "language": "python",
   "name": "python3"
  },
  "language_info": {
   "codemirror_mode": {
    "name": "ipython",
    "version": 3
   },
   "file_extension": ".py",
   "mimetype": "text/x-python",
   "name": "python",
   "nbconvert_exporter": "python",
   "pygments_lexer": "ipython3",
   "version": "3.9.7"
  }
 },
 "nbformat": 4,
 "nbformat_minor": 2
}
